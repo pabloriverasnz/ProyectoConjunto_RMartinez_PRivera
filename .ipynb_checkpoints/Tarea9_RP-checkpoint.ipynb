{
 "cells": [
  {
   "cell_type": "markdown",
   "metadata": {},
   "source": [
    "<img style=\"float: left; margin: 30px 15px 15px 15px;\" src=\"https://pngimage.net/wp-content/uploads/2018/06/logo-iteso-png-5.png\" width=\"300\" height=\"500\" /> \n",
    "    \n",
    "    \n",
    "### <font color='navy'> Simulación de procesos financieros. \n",
    "\n",
    "**Nombres:** \n",
    "- Rodrigo Martínez Gallardo Bertoldi\n",
    "- Pablo Alejandro Rivera Sánchez\n",
    "\n",
    "**Fecha:** 26 de abril del 2021.\n",
    "\n",
    "**Expediente** : \n",
    "- \n",
    "- 722268\n",
    "- 721005\n",
    "    \n",
    "**Profesor:** Oscar David Jaramillo Zuluaga.\n",
    "\n",
    "# Tarea 9: Clase 22."
   ]
  },
  {
   "cell_type": "markdown",
   "metadata": {},
   "source": [
    "[Liga al repositorio](https://github.com/rodrigomart1nez/ProyectoConjunto_RMartinez_PRivera)"
   ]
  },
  {
   "cell_type": "markdown",
   "metadata": {},
   "source": [
    "### Proyecto Conjunto.\n",
    "> Instrucciones: Cada estudiante debe proponer una solución óptima a los problemas planteados a continuación."
   ]
  },
  {
   "cell_type": "markdown",
   "metadata": {},
   "source": [
    "# <font color = 'red'> Tarea: </font>\n",
    "\n",
    "Replicar el procedimiento anterior para valoración de opciones 'call', pero en este caso para opciones tipo 'put'."
   ]
  },
  {
   "cell_type": "markdown",
   "metadata": {},
   "source": [
    "### _Solución Rodrigo._"
   ]
  },
  {
   "cell_type": "code",
   "execution_count": 1,
   "metadata": {},
   "outputs": [],
   "source": [
    "#importar los paquetes que se van a usar\n",
    "import pandas as pd\n",
    "import pandas_datareader.data as web\n",
    "import numpy as np\n",
    "import datetime\n",
    "import matplotlib.pyplot as plt\n",
    "import scipy.stats as st\n",
    "import seaborn as sns\n",
    "%matplotlib inline\n",
    "#algunas opciones para Pandas\n",
    "pd.set_option('display.notebook_repr_html', True)\n",
    "pd.set_option('display.max_columns', 6)\n",
    "pd.set_option('display.max_rows', 10)\n",
    "pd.set_option('display.width', 78)\n",
    "pd.set_option('precision', 3)"
   ]
  },
  {
   "cell_type": "code",
   "execution_count": 2,
   "metadata": {},
   "outputs": [
    {
     "data": {
      "text/html": [
       "<div>\n",
       "<style scoped>\n",
       "    .dataframe tbody tr th:only-of-type {\n",
       "        vertical-align: middle;\n",
       "    }\n",
       "\n",
       "    .dataframe tbody tr th {\n",
       "        vertical-align: top;\n",
       "    }\n",
       "\n",
       "    .dataframe thead th {\n",
       "        text-align: right;\n",
       "    }\n",
       "</style>\n",
       "<table border=\"1\" class=\"dataframe\">\n",
       "  <thead>\n",
       "    <tr style=\"text-align: right;\">\n",
       "      <th></th>\n",
       "      <th>Strike</th>\n",
       "      <th>Type</th>\n",
       "      <th>Symbol</th>\n",
       "      <th>...</th>\n",
       "      <th>Quote_Time</th>\n",
       "      <th>Last_Trade_Date</th>\n",
       "      <th>JSON</th>\n",
       "    </tr>\n",
       "    <tr>\n",
       "      <th>Expiry</th>\n",
       "      <th></th>\n",
       "      <th></th>\n",
       "      <th></th>\n",
       "      <th></th>\n",
       "      <th></th>\n",
       "      <th></th>\n",
       "      <th></th>\n",
       "    </tr>\n",
       "  </thead>\n",
       "  <tbody>\n",
       "    <tr>\n",
       "      <th>2021-06-18</th>\n",
       "      <td>18.75</td>\n",
       "      <td>call</td>\n",
       "      <td>AAPL210618C00018750</td>\n",
       "      <td>...</td>\n",
       "      <td>2021-04-28 18:27:29</td>\n",
       "      <td>2021-04-26 18:30:03</td>\n",
       "      <td>{'contractSymbol': 'AAPL210618C00018750', 'str...</td>\n",
       "    </tr>\n",
       "    <tr>\n",
       "      <th>2021-06-18</th>\n",
       "      <td>18.75</td>\n",
       "      <td>put</td>\n",
       "      <td>AAPL210618P00018750</td>\n",
       "      <td>...</td>\n",
       "      <td>2021-04-28 18:27:29</td>\n",
       "      <td>2021-04-22 14:35:20</td>\n",
       "      <td>{'contractSymbol': 'AAPL210618P00018750', 'str...</td>\n",
       "    </tr>\n",
       "    <tr>\n",
       "      <th>2021-06-18</th>\n",
       "      <td>20.00</td>\n",
       "      <td>call</td>\n",
       "      <td>AAPL210618C00020000</td>\n",
       "      <td>...</td>\n",
       "      <td>2021-04-28 18:27:29</td>\n",
       "      <td>2021-04-14 15:36:52</td>\n",
       "      <td>{'contractSymbol': 'AAPL210618C00020000', 'str...</td>\n",
       "    </tr>\n",
       "    <tr>\n",
       "      <th>2021-06-18</th>\n",
       "      <td>20.00</td>\n",
       "      <td>put</td>\n",
       "      <td>AAPL210618P00020000</td>\n",
       "      <td>...</td>\n",
       "      <td>2021-04-28 18:27:29</td>\n",
       "      <td>2021-03-22 19:57:37</td>\n",
       "      <td>{'contractSymbol': 'AAPL210618P00020000', 'str...</td>\n",
       "    </tr>\n",
       "    <tr>\n",
       "      <th>2021-06-18</th>\n",
       "      <td>21.25</td>\n",
       "      <td>call</td>\n",
       "      <td>AAPL210618C00021250</td>\n",
       "      <td>...</td>\n",
       "      <td>2021-04-28 18:27:29</td>\n",
       "      <td>2021-02-04 18:50:12</td>\n",
       "      <td>{'contractSymbol': 'AAPL210618C00021250', 'str...</td>\n",
       "    </tr>\n",
       "    <tr>\n",
       "      <th>...</th>\n",
       "      <td>...</td>\n",
       "      <td>...</td>\n",
       "      <td>...</td>\n",
       "      <td>...</td>\n",
       "      <td>...</td>\n",
       "      <td>...</td>\n",
       "      <td>...</td>\n",
       "    </tr>\n",
       "    <tr>\n",
       "      <th>2021-09-17</th>\n",
       "      <td>1000.00</td>\n",
       "      <td>call</td>\n",
       "      <td>AAPL210917C01000000</td>\n",
       "      <td>...</td>\n",
       "      <td>2021-04-28 18:27:30</td>\n",
       "      <td>2020-08-28 19:58:31</td>\n",
       "      <td>{'contractSymbol': 'AAPL210917C01000000', 'str...</td>\n",
       "    </tr>\n",
       "    <tr>\n",
       "      <th>2022-01-21</th>\n",
       "      <td>1000.00</td>\n",
       "      <td>call</td>\n",
       "      <td>AAPL220121C01000000</td>\n",
       "      <td>...</td>\n",
       "      <td>2021-04-28 18:27:30</td>\n",
       "      <td>2020-08-28 19:59:43</td>\n",
       "      <td>{'contractSymbol': 'AAPL220121C01000000', 'str...</td>\n",
       "    </tr>\n",
       "    <tr>\n",
       "      <th>2022-06-17</th>\n",
       "      <td>1000.00</td>\n",
       "      <td>call</td>\n",
       "      <td>AAPL220617C01000000</td>\n",
       "      <td>...</td>\n",
       "      <td>2021-04-28 18:27:30</td>\n",
       "      <td>2020-08-28 19:48:09</td>\n",
       "      <td>{'contractSymbol': 'AAPL220617C01000000', 'str...</td>\n",
       "    </tr>\n",
       "    <tr>\n",
       "      <th>2022-09-16</th>\n",
       "      <td>1000.00</td>\n",
       "      <td>call</td>\n",
       "      <td>AAPL220916C01000000</td>\n",
       "      <td>...</td>\n",
       "      <td>2021-04-28 18:27:30</td>\n",
       "      <td>2020-08-28 19:59:03</td>\n",
       "      <td>{'contractSymbol': 'AAPL220916C01000000', 'str...</td>\n",
       "    </tr>\n",
       "    <tr>\n",
       "      <th>2022-09-16</th>\n",
       "      <td>1000.00</td>\n",
       "      <td>put</td>\n",
       "      <td>AAPL220916P01000000</td>\n",
       "      <td>...</td>\n",
       "      <td>2021-04-28 18:27:30</td>\n",
       "      <td>2020-08-28 17:27:35</td>\n",
       "      <td>{'contractSymbol': 'AAPL220916P01000000', 'str...</td>\n",
       "    </tr>\n",
       "  </tbody>\n",
       "</table>\n",
       "<p>2310 rows × 18 columns</p>\n",
       "</div>"
      ],
      "text/plain": [
       "             Strike  Type               Symbol  ...          Quote_Time  \\\n",
       "Expiry                                          ...                       \n",
       "2021-06-18    18.75  call  AAPL210618C00018750  ... 2021-04-28 18:27:29   \n",
       "2021-06-18    18.75   put  AAPL210618P00018750  ... 2021-04-28 18:27:29   \n",
       "2021-06-18    20.00  call  AAPL210618C00020000  ... 2021-04-28 18:27:29   \n",
       "2021-06-18    20.00   put  AAPL210618P00020000  ... 2021-04-28 18:27:29   \n",
       "2021-06-18    21.25  call  AAPL210618C00021250  ... 2021-04-28 18:27:29   \n",
       "...             ...   ...                  ...  ...                 ...   \n",
       "2021-09-17  1000.00  call  AAPL210917C01000000  ... 2021-04-28 18:27:30   \n",
       "2022-01-21  1000.00  call  AAPL220121C01000000  ... 2021-04-28 18:27:30   \n",
       "2022-06-17  1000.00  call  AAPL220617C01000000  ... 2021-04-28 18:27:30   \n",
       "2022-09-16  1000.00  call  AAPL220916C01000000  ... 2021-04-28 18:27:30   \n",
       "2022-09-16  1000.00   put  AAPL220916P01000000  ... 2021-04-28 18:27:30   \n",
       "\n",
       "               Last_Trade_Date  \\\n",
       "Expiry                           \n",
       "2021-06-18 2021-04-26 18:30:03   \n",
       "2021-06-18 2021-04-22 14:35:20   \n",
       "2021-06-18 2021-04-14 15:36:52   \n",
       "2021-06-18 2021-03-22 19:57:37   \n",
       "2021-06-18 2021-02-04 18:50:12   \n",
       "...                        ...   \n",
       "2021-09-17 2020-08-28 19:58:31   \n",
       "2022-01-21 2020-08-28 19:59:43   \n",
       "2022-06-17 2020-08-28 19:48:09   \n",
       "2022-09-16 2020-08-28 19:59:03   \n",
       "2022-09-16 2020-08-28 17:27:35   \n",
       "\n",
       "                                                         JSON  \n",
       "Expiry                                                         \n",
       "2021-06-18  {'contractSymbol': 'AAPL210618C00018750', 'str...  \n",
       "2021-06-18  {'contractSymbol': 'AAPL210618P00018750', 'str...  \n",
       "2021-06-18  {'contractSymbol': 'AAPL210618C00020000', 'str...  \n",
       "2021-06-18  {'contractSymbol': 'AAPL210618P00020000', 'str...  \n",
       "2021-06-18  {'contractSymbol': 'AAPL210618C00021250', 'str...  \n",
       "...                                                       ...  \n",
       "2021-09-17  {'contractSymbol': 'AAPL210917C01000000', 'str...  \n",
       "2022-01-21  {'contractSymbol': 'AAPL220121C01000000', 'str...  \n",
       "2022-06-17  {'contractSymbol': 'AAPL220617C01000000', 'str...  \n",
       "2022-09-16  {'contractSymbol': 'AAPL220916C01000000', 'str...  \n",
       "2022-09-16  {'contractSymbol': 'AAPL220916P01000000', 'str...  \n",
       "\n",
       "[2310 rows x 18 columns]"
      ]
     },
     "execution_count": 2,
     "metadata": {},
     "output_type": "execute_result"
    }
   ],
   "source": [
    "aapl = web.YahooOptions('AAPL')\n",
    "aapl_opt = aapl.get_all_data().reset_index()\n",
    "aapl_opt.set_index('Expiry')"
   ]
  },
  {
   "cell_type": "code",
   "execution_count": null,
   "metadata": {},
   "outputs": [],
   "source": []
  },
  {
   "cell_type": "code",
   "execution_count": null,
   "metadata": {},
   "outputs": [],
   "source": []
  },
  {
   "cell_type": "code",
   "execution_count": null,
   "metadata": {},
   "outputs": [],
   "source": []
  },
  {
   "cell_type": "code",
   "execution_count": null,
   "metadata": {},
   "outputs": [],
   "source": []
  },
  {
   "cell_type": "code",
   "execution_count": null,
   "metadata": {},
   "outputs": [],
   "source": []
  },
  {
   "cell_type": "code",
   "execution_count": null,
   "metadata": {},
   "outputs": [],
   "source": []
  },
  {
   "cell_type": "code",
   "execution_count": null,
   "metadata": {},
   "outputs": [],
   "source": []
  },
  {
   "cell_type": "code",
   "execution_count": null,
   "metadata": {},
   "outputs": [],
   "source": []
  },
  {
   "cell_type": "code",
   "execution_count": null,
   "metadata": {},
   "outputs": [],
   "source": []
  },
  {
   "cell_type": "code",
   "execution_count": null,
   "metadata": {},
   "outputs": [],
   "source": []
  },
  {
   "cell_type": "code",
   "execution_count": null,
   "metadata": {},
   "outputs": [],
   "source": []
  },
  {
   "cell_type": "code",
   "execution_count": null,
   "metadata": {},
   "outputs": [],
   "source": []
  },
  {
   "cell_type": "code",
   "execution_count": null,
   "metadata": {},
   "outputs": [],
   "source": []
  },
  {
   "cell_type": "code",
   "execution_count": null,
   "metadata": {},
   "outputs": [],
   "source": []
  },
  {
   "cell_type": "markdown",
   "metadata": {},
   "source": [
    "### _Solución Pablo._"
   ]
  },
  {
   "cell_type": "code",
   "execution_count": 3,
   "metadata": {},
   "outputs": [],
   "source": [
    "def get_adj_closes(tickers: 'Activo', start_date=None, end_date=None):\n",
    "\n",
    "    '''\n",
    "    Función que nos da los precios de cierre ajustado del activo especificado.\n",
    "    '''\n",
    "    closes = web.DataReader(name=tickers, data_source='yahoo', start=start_date, end=end_date)\n",
    "    closes = closes['Adj Close']\n",
    "    closes.sort_index(inplace=True)\n",
    "    \n",
    "    return closes"
   ]
  },
  {
   "cell_type": "code",
   "execution_count": 4,
   "metadata": {},
   "outputs": [],
   "source": [
    "def calc_daily_ret(closes: 'Precios de cierre ajustado'):\n",
    "    \n",
    "    '''\n",
    "    Función que nos regresa los rendimientos diaros de los precios de cierre ajustados.\n",
    "    '''\n",
    "    \n",
    "    return np.log(closes/closes.shift(1)).iloc[1:]"
   ]
  },
  {
   "cell_type": "code",
   "execution_count": 5,
   "metadata": {},
   "outputs": [
    {
     "data": {
      "image/png": "[encoded data removed]",
      "text/plain": [
       "<Figure size 576x360 with 1 Axes>"
      ]
     },
     "metadata": {
      "needs_background": "light"
     },
     "output_type": "display_data"
    }
   ],
   "source": [
    "ticker = ['BA']\n",
    "start_date = '2017-01-01'\n",
    "\n",
    "closes_boeing = get_adj_closes(ticker, start_date)\n",
    "closes_boeing.plot(figsize=(8,5));\n",
    "plt.legend(ticker);"
   ]
  },
  {
   "cell_type": "code",
   "execution_count": 6,
   "metadata": {},
   "outputs": [
    {
     "data": {
      "image/png": "[encoded data removed]",
      "text/plain": [
       "<Figure size 576x432 with 1 Axes>"
      ]
     },
     "metadata": {
      "needs_background": "light"
     },
     "output_type": "display_data"
    }
   ],
   "source": [
    "ret_boeing = calc_daily_ret(closes_boeing)\n",
    "ret_boeing.plot(figsize=(8,6));"
   ]
  },
  {
   "cell_type": "markdown",
   "metadata": {},
   "source": [
    "Con ayuda de las funciones y la paquetería/API de Yahoo, importamos los precios de cierre ajustado del activo que deseemos, en este caso será de Boeing (BA), la compañía de aviones. Posteriormente, calculamos los rendimientos de dichos precios y lo graficamos junto con la historia de los precios."
   ]
  },
  {
   "cell_type": "code",
   "execution_count": 7,
   "metadata": {},
   "outputs": [
    {
     "data": {
      "text/html": [
       "<div>\n",
       "<style scoped>\n",
       "    .dataframe tbody tr th:only-of-type {\n",
       "        vertical-align: middle;\n",
       "    }\n",
       "\n",
       "    .dataframe tbody tr th {\n",
       "        vertical-align: top;\n",
       "    }\n",
       "\n",
       "    .dataframe thead th {\n",
       "        text-align: right;\n",
       "    }\n",
       "</style>\n",
       "<table border=\"1\" class=\"dataframe\">\n",
       "  <thead>\n",
       "    <tr style=\"text-align: right;\">\n",
       "      <th></th>\n",
       "      <th>Strike</th>\n",
       "      <th>Type</th>\n",
       "      <th>Symbol</th>\n",
       "      <th>...</th>\n",
       "      <th>Quote_Time</th>\n",
       "      <th>Last_Trade_Date</th>\n",
       "      <th>JSON</th>\n",
       "    </tr>\n",
       "    <tr>\n",
       "      <th>Expiry</th>\n",
       "      <th></th>\n",
       "      <th></th>\n",
       "      <th></th>\n",
       "      <th></th>\n",
       "      <th></th>\n",
       "      <th></th>\n",
       "      <th></th>\n",
       "    </tr>\n",
       "  </thead>\n",
       "  <tbody>\n",
       "    <tr>\n",
       "      <th>2021-04-30</th>\n",
       "      <td>242.5</td>\n",
       "      <td>call</td>\n",
       "      <td>BA210430C00242500</td>\n",
       "      <td>...</td>\n",
       "      <td>2021-04-28 18:27:29</td>\n",
       "      <td>2021-04-28 18:10:03</td>\n",
       "      <td>{'contractSymbol': 'BA210430C00242500', 'strik...</td>\n",
       "    </tr>\n",
       "    <tr>\n",
       "      <th>2021-04-30</th>\n",
       "      <td>325.0</td>\n",
       "      <td>put</td>\n",
       "      <td>BA210430P00325000</td>\n",
       "      <td>...</td>\n",
       "      <td>2021-04-28 18:27:29</td>\n",
       "      <td>2021-03-17 18:16:57</td>\n",
       "      <td>{'contractSymbol': 'BA210430P00325000', 'strik...</td>\n",
       "    </tr>\n",
       "    <tr>\n",
       "      <th>2021-04-30</th>\n",
       "      <td>135.0</td>\n",
       "      <td>put</td>\n",
       "      <td>BA210430P00135000</td>\n",
       "      <td>...</td>\n",
       "      <td>2021-04-28 18:27:29</td>\n",
       "      <td>2021-04-05 19:58:58</td>\n",
       "      <td>{'contractSymbol': 'BA210430P00135000', 'strik...</td>\n",
       "    </tr>\n",
       "    <tr>\n",
       "      <th>2021-04-30</th>\n",
       "      <td>215.0</td>\n",
       "      <td>put</td>\n",
       "      <td>BA210430P00215000</td>\n",
       "      <td>...</td>\n",
       "      <td>2021-04-28 18:27:29</td>\n",
       "      <td>2021-04-28 18:09:37</td>\n",
       "      <td>{'contractSymbol': 'BA210430P00215000', 'strik...</td>\n",
       "    </tr>\n",
       "    <tr>\n",
       "      <th>2021-04-30</th>\n",
       "      <td>215.0</td>\n",
       "      <td>call</td>\n",
       "      <td>BA210430C00215000</td>\n",
       "      <td>...</td>\n",
       "      <td>2021-04-28 18:27:29</td>\n",
       "      <td>2021-04-26 16:30:46</td>\n",
       "      <td>{'contractSymbol': 'BA210430C00215000', 'strik...</td>\n",
       "    </tr>\n",
       "    <tr>\n",
       "      <th>...</th>\n",
       "      <td>...</td>\n",
       "      <td>...</td>\n",
       "      <td>...</td>\n",
       "      <td>...</td>\n",
       "      <td>...</td>\n",
       "      <td>...</td>\n",
       "      <td>...</td>\n",
       "    </tr>\n",
       "    <tr>\n",
       "      <th>2023-01-20</th>\n",
       "      <td>270.0</td>\n",
       "      <td>call</td>\n",
       "      <td>BA230120C00270000</td>\n",
       "      <td>...</td>\n",
       "      <td>2021-04-28 18:27:29</td>\n",
       "      <td>2021-04-28 17:14:36</td>\n",
       "      <td>{'contractSymbol': 'BA230120C00270000', 'strik...</td>\n",
       "    </tr>\n",
       "    <tr>\n",
       "      <th>2023-01-20</th>\n",
       "      <td>95.0</td>\n",
       "      <td>put</td>\n",
       "      <td>BA230120P00095000</td>\n",
       "      <td>...</td>\n",
       "      <td>2021-04-28 18:27:29</td>\n",
       "      <td>2021-04-27 14:24:21</td>\n",
       "      <td>{'contractSymbol': 'BA230120P00095000', 'strik...</td>\n",
       "    </tr>\n",
       "    <tr>\n",
       "      <th>2023-01-20</th>\n",
       "      <td>95.0</td>\n",
       "      <td>call</td>\n",
       "      <td>BA230120C00095000</td>\n",
       "      <td>...</td>\n",
       "      <td>2021-04-28 18:27:29</td>\n",
       "      <td>2021-04-01 15:09:01</td>\n",
       "      <td>{'contractSymbol': 'BA230120C00095000', 'strik...</td>\n",
       "    </tr>\n",
       "    <tr>\n",
       "      <th>2023-01-20</th>\n",
       "      <td>175.0</td>\n",
       "      <td>call</td>\n",
       "      <td>BA230120C00175000</td>\n",
       "      <td>...</td>\n",
       "      <td>2021-04-28 18:27:29</td>\n",
       "      <td>2021-04-28 14:43:02</td>\n",
       "      <td>{'contractSymbol': 'BA230120C00175000', 'strik...</td>\n",
       "    </tr>\n",
       "    <tr>\n",
       "      <th>2023-01-20</th>\n",
       "      <td>235.0</td>\n",
       "      <td>call</td>\n",
       "      <td>BA230120C00235000</td>\n",
       "      <td>...</td>\n",
       "      <td>2021-04-28 18:27:29</td>\n",
       "      <td>2021-04-28 17:00:59</td>\n",
       "      <td>{'contractSymbol': 'BA230120C00235000', 'strik...</td>\n",
       "    </tr>\n",
       "  </tbody>\n",
       "</table>\n",
       "<p>1518 rows × 18 columns</p>\n",
       "</div>"
      ],
      "text/plain": [
       "            Strike  Type             Symbol  ...          Quote_Time  \\\n",
       "Expiry                                       ...                       \n",
       "2021-04-30   242.5  call  BA210430C00242500  ... 2021-04-28 18:27:29   \n",
       "2021-04-30   325.0   put  BA210430P00325000  ... 2021-04-28 18:27:29   \n",
       "2021-04-30   135.0   put  BA210430P00135000  ... 2021-04-28 18:27:29   \n",
       "2021-04-30   215.0   put  BA210430P00215000  ... 2021-04-28 18:27:29   \n",
       "2021-04-30   215.0  call  BA210430C00215000  ... 2021-04-28 18:27:29   \n",
       "...            ...   ...                ...  ...                 ...   \n",
       "2023-01-20   270.0  call  BA230120C00270000  ... 2021-04-28 18:27:29   \n",
       "2023-01-20    95.0   put  BA230120P00095000  ... 2021-04-28 18:27:29   \n",
       "2023-01-20    95.0  call  BA230120C00095000  ... 2021-04-28 18:27:29   \n",
       "2023-01-20   175.0  call  BA230120C00175000  ... 2021-04-28 18:27:29   \n",
       "2023-01-20   235.0  call  BA230120C00235000  ... 2021-04-28 18:27:29   \n",
       "\n",
       "               Last_Trade_Date  \\\n",
       "Expiry                           \n",
       "2021-04-30 2021-04-28 18:10:03   \n",
       "2021-04-30 2021-03-17 18:16:57   \n",
       "2021-04-30 2021-04-05 19:58:58   \n",
       "2021-04-30 2021-04-28 18:09:37   \n",
       "2021-04-30 2021-04-26 16:30:46   \n",
       "...                        ...   \n",
       "2023-01-20 2021-04-28 17:14:36   \n",
       "2023-01-20 2021-04-27 14:24:21   \n",
       "2023-01-20 2021-04-01 15:09:01   \n",
       "2023-01-20 2021-04-28 14:43:02   \n",
       "2023-01-20 2021-04-28 17:00:59   \n",
       "\n",
       "                                                         JSON  \n",
       "Expiry                                                         \n",
       "2021-04-30  {'contractSymbol': 'BA210430C00242500', 'strik...  \n",
       "2021-04-30  {'contractSymbol': 'BA210430P00325000', 'strik...  \n",
       "2021-04-30  {'contractSymbol': 'BA210430P00135000', 'strik...  \n",
       "2021-04-30  {'contractSymbol': 'BA210430P00215000', 'strik...  \n",
       "2021-04-30  {'contractSymbol': 'BA210430C00215000', 'strik...  \n",
       "...                                                       ...  \n",
       "2023-01-20  {'contractSymbol': 'BA230120C00270000', 'strik...  \n",
       "2023-01-20  {'contractSymbol': 'BA230120P00095000', 'strik...  \n",
       "2023-01-20  {'contractSymbol': 'BA230120C00095000', 'strik...  \n",
       "2023-01-20  {'contractSymbol': 'BA230120C00175000', 'strik...  \n",
       "2023-01-20  {'contractSymbol': 'BA230120C00235000', 'strik...  \n",
       "\n",
       "[1518 rows x 18 columns]"
      ]
     },
     "execution_count": 7,
     "metadata": {},
     "output_type": "execute_result"
    }
   ],
   "source": [
    "boeing = web.YahooOptions('BA')\n",
    "opc_boeing = boeing.get_all_data().reset_index()\n",
    "opc_boeing.set_index('Expiry').sort_index()"
   ]
  },
  {
   "cell_type": "code",
   "execution_count": 8,
   "metadata": {},
   "outputs": [
    {
     "data": {
      "text/plain": [
       "235.9701"
      ]
     },
     "execution_count": 8,
     "metadata": {},
     "output_type": "execute_result"
    }
   ],
   "source": [
    "opc_boeing.Underlying_Price[0]"
   ]
  },
  {
   "cell_type": "markdown",
   "metadata": {},
   "source": [
    "Descargamos los datos de todas las opciones que estén disponibles en el mercado de nuestro activo. De todas estas vamos a seleccionar una con el siguiente strike price y fecha de expiración. La elección de este precio de ejercicio se debe a que vamos a estimar el precio de una opción tipo put, es decir, vamos a ganar si el precio del activo subyacente es menor al precio de ejercicio, ya que esperamos vender a un precio más caro del real. "
   ]
  },
  {
   "cell_type": "code",
   "execution_count": 9,
   "metadata": {},
   "outputs": [
    {
     "data": {
      "text/html": [
       "<div>\n",
       "<style scoped>\n",
       "    .dataframe tbody tr th:only-of-type {\n",
       "        vertical-align: middle;\n",
       "    }\n",
       "\n",
       "    .dataframe tbody tr th {\n",
       "        vertical-align: top;\n",
       "    }\n",
       "\n",
       "    .dataframe thead th {\n",
       "        text-align: right;\n",
       "    }\n",
       "</style>\n",
       "<table border=\"1\" class=\"dataframe\">\n",
       "  <thead>\n",
       "    <tr style=\"text-align: right;\">\n",
       "      <th></th>\n",
       "      <th>Strike</th>\n",
       "      <th>Expiry</th>\n",
       "      <th>Type</th>\n",
       "      <th>...</th>\n",
       "      <th>Quote_Time</th>\n",
       "      <th>Last_Trade_Date</th>\n",
       "      <th>JSON</th>\n",
       "    </tr>\n",
       "  </thead>\n",
       "  <tbody>\n",
       "    <tr>\n",
       "      <th>795</th>\n",
       "      <td>245.0</td>\n",
       "      <td>2023-01-20</td>\n",
       "      <td>put</td>\n",
       "      <td>...</td>\n",
       "      <td>2021-04-28 18:27:29</td>\n",
       "      <td>2021-04-28 16:07:38</td>\n",
       "      <td>{'contractSymbol': 'BA230120P00245000', 'strik...</td>\n",
       "    </tr>\n",
       "  </tbody>\n",
       "</table>\n",
       "<p>1 rows × 19 columns</p>\n",
       "</div>"
      ],
      "text/plain": [
       "     Strike     Expiry Type  ...          Quote_Time     Last_Trade_Date  \\\n",
       "795   245.0 2023-01-20  put  ... 2021-04-28 18:27:29 2021-04-28 16:07:38   \n",
       "\n",
       "                                                  JSON  \n",
       "795  {'contractSymbol': 'BA230120P00245000', 'strik...  \n",
       "\n",
       "[1 rows x 19 columns]"
      ]
     },
     "execution_count": 9,
     "metadata": {},
     "output_type": "execute_result"
    }
   ],
   "source": [
    "K = 245 # strike price\n",
    "indice_opc = opc_boeing.loc[(opc_boeing.Type=='put') & (opc_boeing.Strike==K) & (opc_boeing.Expiry=='2023-01-20')] # Cambiar fecha\n",
    "indice_opc     "
   ]
  },
  {
   "cell_type": "markdown",
   "metadata": {},
   "source": [
    "Obtenemos una opción con este precio de ejercicio y fecha de expiración, podemos analizar sus características. Nuestro objetivo será aproximarnos lo más posible al \"lastPrice\", que es el precio de la opción, como simularemos varios escenarios continuos en el tiempo, podremos ver la evolución de dicho precio a través del tiempo. "
   ]
  },
  {
   "cell_type": "code",
   "execution_count": 10,
   "metadata": {},
   "outputs": [
    {
     "data": {
      "text/plain": [
       "{'contractSymbol': 'BA230120P00245000',\n",
       " 'strike': 245.0,\n",
       " 'currency': 'USD',\n",
       " 'lastPrice': 47.48,\n",
       " 'change': 2.880001,\n",
       " 'percentChange': 6.457402,\n",
       " 'volume': 1,\n",
       " 'openInterest': 71,\n",
       " 'bid': 45.8,\n",
       " 'ask': 48.85,\n",
       " 'contractSize': 'REGULAR',\n",
       " 'expiration': 1674172800,\n",
       " 'lastTradeDate': 1619626058,\n",
       " 'impliedVolatility': 0.35315588256835934,\n",
       " 'inTheMoney': True}"
      ]
     },
     "execution_count": 10,
     "metadata": {},
     "output_type": "execute_result"
    }
   ],
   "source": [
    "i_opt = indice_opc.index\n",
    "opcion_valuar = opc_boeing.loc[i_opt[0]]\n",
    "opcion_valuar['JSON']"
   ]
  },
  {
   "cell_type": "markdown",
   "metadata": {},
   "source": [
    "Obtenemos tanto la media como la desviación estándar de los rendimientos. Como estamos bajo los supuestos de Black & Scholes, uno de ellos es que asumimos que estamos en un mercado libre de riesgo, no vamos a utilizar la media de los rendimientos como la media real, si no que usaremos la tasa libre de riesgo como la media. "
   ]
  },
  {
   "cell_type": "code",
   "execution_count": 11,
   "metadata": {},
   "outputs": [],
   "source": [
    "mu = ret_boeing.mean()[0]\n",
    "sigma = ret_boeing.std()[0]\n",
    "\n",
    "# Tasa libre de riesgo anual al día de hoy es 0.07%\n",
    "r = 0.0007/360 # tasa diaria"
   ]
  },
  {
   "cell_type": "markdown",
   "metadata": {},
   "source": [
    "Posteriormente, pasamos a simular varios escenarios posibles del comportamiento del rendimiento de la acción desde el día de hoy hasta el día en el que la opción expira. Estos rendimientos, a su vez, nos ayudarán a simular varios escenarios posibles del comportamiento del precio de la acción. \n"
   ]
  },
  {
   "cell_type": "code",
   "execution_count": 12,
   "metadata": {},
   "outputs": [],
   "source": [
    "from datetime import date\n",
    "\n",
    "today = pd.Timestamp(date.today())\n",
    "expiry = opcion_valuar.Expiry\n",
    "\n",
    "dates = pd.date_range(start = today, end = expiry, freq = 'B')\n",
    "\n",
    "ndays = len(dates) # Número de días (t)\n",
    "nscen = 100000"
   ]
  },
  {
   "cell_type": "code",
   "execution_count": 13,
   "metadata": {},
   "outputs": [],
   "source": [
    "sim_ret = pd.DataFrame(sigma*np.random.randn(ndays,nscen)+r, index=dates) # Rendimientos simulados"
   ]
  },
  {
   "cell_type": "code",
   "execution_count": 14,
   "metadata": {},
   "outputs": [
    {
     "data": {
      "text/html": [
       "<div>\n",
       "<style scoped>\n",
       "    .dataframe tbody tr th:only-of-type {\n",
       "        vertical-align: middle;\n",
       "    }\n",
       "\n",
       "    .dataframe tbody tr th {\n",
       "        vertical-align: top;\n",
       "    }\n",
       "\n",
       "    .dataframe thead th {\n",
       "        text-align: right;\n",
       "    }\n",
       "</style>\n",
       "<table border=\"1\" class=\"dataframe\">\n",
       "  <thead>\n",
       "    <tr style=\"text-align: right;\">\n",
       "      <th></th>\n",
       "      <th>0</th>\n",
       "      <th>1</th>\n",
       "      <th>2</th>\n",
       "      <th>...</th>\n",
       "      <th>99997</th>\n",
       "      <th>99998</th>\n",
       "      <th>99999</th>\n",
       "    </tr>\n",
       "  </thead>\n",
       "  <tbody>\n",
       "    <tr>\n",
       "      <th>2021-04-28</th>\n",
       "      <td>235.970</td>\n",
       "      <td>235.970</td>\n",
       "      <td>235.970</td>\n",
       "      <td>...</td>\n",
       "      <td>235.970</td>\n",
       "      <td>235.970</td>\n",
       "      <td>235.970</td>\n",
       "    </tr>\n",
       "    <tr>\n",
       "      <th>2021-04-29</th>\n",
       "      <td>252.570</td>\n",
       "      <td>245.423</td>\n",
       "      <td>228.352</td>\n",
       "      <td>...</td>\n",
       "      <td>242.983</td>\n",
       "      <td>252.147</td>\n",
       "      <td>236.307</td>\n",
       "    </tr>\n",
       "    <tr>\n",
       "      <th>2021-04-30</th>\n",
       "      <td>249.702</td>\n",
       "      <td>245.468</td>\n",
       "      <td>235.502</td>\n",
       "      <td>...</td>\n",
       "      <td>247.502</td>\n",
       "      <td>254.248</td>\n",
       "      <td>225.147</td>\n",
       "    </tr>\n",
       "    <tr>\n",
       "      <th>2021-05-03</th>\n",
       "      <td>255.637</td>\n",
       "      <td>243.635</td>\n",
       "      <td>234.832</td>\n",
       "      <td>...</td>\n",
       "      <td>244.446</td>\n",
       "      <td>249.779</td>\n",
       "      <td>222.180</td>\n",
       "    </tr>\n",
       "    <tr>\n",
       "      <th>2021-05-04</th>\n",
       "      <td>261.545</td>\n",
       "      <td>247.242</td>\n",
       "      <td>235.974</td>\n",
       "      <td>...</td>\n",
       "      <td>255.995</td>\n",
       "      <td>240.008</td>\n",
       "      <td>229.252</td>\n",
       "    </tr>\n",
       "    <tr>\n",
       "      <th>...</th>\n",
       "      <td>...</td>\n",
       "      <td>...</td>\n",
       "      <td>...</td>\n",
       "      <td>...</td>\n",
       "      <td>...</td>\n",
       "      <td>...</td>\n",
       "      <td>...</td>\n",
       "    </tr>\n",
       "    <tr>\n",
       "      <th>2023-01-16</th>\n",
       "      <td>173.521</td>\n",
       "      <td>216.274</td>\n",
       "      <td>135.157</td>\n",
       "      <td>...</td>\n",
       "      <td>1329.722</td>\n",
       "      <td>244.818</td>\n",
       "      <td>299.380</td>\n",
       "    </tr>\n",
       "    <tr>\n",
       "      <th>2023-01-17</th>\n",
       "      <td>172.750</td>\n",
       "      <td>216.559</td>\n",
       "      <td>130.470</td>\n",
       "      <td>...</td>\n",
       "      <td>1308.359</td>\n",
       "      <td>242.266</td>\n",
       "      <td>310.686</td>\n",
       "    </tr>\n",
       "    <tr>\n",
       "      <th>2023-01-18</th>\n",
       "      <td>166.245</td>\n",
       "      <td>205.406</td>\n",
       "      <td>135.085</td>\n",
       "      <td>...</td>\n",
       "      <td>1325.371</td>\n",
       "      <td>231.569</td>\n",
       "      <td>298.114</td>\n",
       "    </tr>\n",
       "    <tr>\n",
       "      <th>2023-01-19</th>\n",
       "      <td>171.714</td>\n",
       "      <td>200.098</td>\n",
       "      <td>131.375</td>\n",
       "      <td>...</td>\n",
       "      <td>1309.258</td>\n",
       "      <td>229.753</td>\n",
       "      <td>295.475</td>\n",
       "    </tr>\n",
       "    <tr>\n",
       "      <th>2023-01-20</th>\n",
       "      <td>169.694</td>\n",
       "      <td>196.497</td>\n",
       "      <td>128.137</td>\n",
       "      <td>...</td>\n",
       "      <td>1233.054</td>\n",
       "      <td>228.703</td>\n",
       "      <td>283.519</td>\n",
       "    </tr>\n",
       "  </tbody>\n",
       "</table>\n",
       "<p>453 rows × 100000 columns</p>\n",
       "</div>"
      ],
      "text/plain": [
       "              0        1        2      ...     99997    99998    99999\n",
       "2021-04-28  235.970  235.970  235.970  ...   235.970  235.970  235.970\n",
       "2021-04-29  252.570  245.423  228.352  ...   242.983  252.147  236.307\n",
       "2021-04-30  249.702  245.468  235.502  ...   247.502  254.248  225.147\n",
       "2021-05-03  255.637  243.635  234.832  ...   244.446  249.779  222.180\n",
       "2021-05-04  261.545  247.242  235.974  ...   255.995  240.008  229.252\n",
       "...             ...      ...      ...  ...       ...      ...      ...\n",
       "2023-01-16  173.521  216.274  135.157  ...  1329.722  244.818  299.380\n",
       "2023-01-17  172.750  216.559  130.470  ...  1308.359  242.266  310.686\n",
       "2023-01-18  166.245  205.406  135.085  ...  1325.371  231.569  298.114\n",
       "2023-01-19  171.714  200.098  131.375  ...  1309.258  229.753  295.475\n",
       "2023-01-20  169.694  196.497  128.137  ...  1233.054  228.703  283.519\n",
       "\n",
       "[453 rows x 100000 columns]"
      ]
     },
     "execution_count": 14,
     "metadata": {},
     "output_type": "execute_result"
    }
   ],
   "source": [
    "# Ya teniendo los rendimientos, simulamos ahora los precios\n",
    "S0 = closes_boeing.iloc[-1,0]  # Condición inicial del precio a simular\n",
    "sim_closes = S0*np.exp(sim_ret.cumsum())\n",
    "sim_closes.iloc[0, :] = S0 # Que todos empiezen del mismo valor\n",
    "sim_closes"
   ]
  },
  {
   "cell_type": "markdown",
   "metadata": {},
   "source": [
    "Por último, aplicamos la fórmula vista en clase para obtener el precio de la opción para cada instancia en cada uno de los escenarios. \n",
    "\n",
    "$$\\text{Valor actual de la opción} = V(S_0, T) = E^*(e^{-rT} f(S_T)) = e^{-rT} E^*(f(S_T))$$\n",
    "\n",
    "En este caso, utilizaremos como $f(S_T)$ la función de pago de una opción put, la cual está dada por la siguiente fórmula: \n",
    "\n",
    "$$ P(S(t),t)=max\\{K-S(T),0\\} $$ \n",
    "\n",
    "Programamos esto para todos los escenarios posibles y obtenemos los siguientes resultados."
   ]
  },
  {
   "cell_type": "code",
   "execution_count": 15,
   "metadata": {},
   "outputs": [
    {
     "data": {
      "image/png": "[encoded data removed]",
      "text/plain": [
       "<Figure size 432x288 with 1 Axes>"
      ]
     },
     "metadata": {
      "needs_background": "light"
     },
     "output_type": "display_data"
    }
   ],
   "source": [
    "put = pd.DataFrame({'Prima':np.exp(-r*ndays) \\\n",
    "              *np.fmax(K - sim_closes,0).mean(axis=1)}, index=dates)\n",
    "put.plot();"
   ]
  },
  {
   "cell_type": "code",
   "execution_count": 16,
   "metadata": {},
   "outputs": [
    {
     "data": {
      "text/plain": [
       "array([48.01860285])"
      ]
     },
     "execution_count": 16,
     "metadata": {},
     "output_type": "execute_result"
    }
   ],
   "source": [
    "rput = put.iloc[-1].values\n",
    "rput # Valor de la prima"
   ]
  },
  {
   "cell_type": "code",
   "execution_count": 17,
   "metadata": {},
   "outputs": [
    {
     "data": {
      "text/plain": [
       "(46.248187995176856, 49.78901770511802)"
      ]
     },
     "execution_count": 17,
     "metadata": {},
     "output_type": "execute_result"
    }
   ],
   "source": [
    "confianza = 0.99\n",
    "sigma_est = sim_closes.iloc[-1].sem()\n",
    "mean_est = put.iloc[-1].Prima\n",
    "i = st.norm.interval(confianza, loc=mean_est, scale=sigma_est)\n",
    "i # Intervalo de confianza al 99% de la prima"
   ]
  },
  {
   "cell_type": "markdown",
   "metadata": {},
   "source": [
    "Ahora vamos a calcular la prima con la distribución de los rendimientos:"
   ]
  },
  {
   "cell_type": "code",
   "execution_count": 18,
   "metadata": {},
   "outputs": [
    {
     "data": {
      "image/png": "[encoded data removed]",
      "text/plain": [
       "<Figure size 432x288 with 1 Axes>"
      ]
     },
     "metadata": {
      "needs_background": "light"
     },
     "output_type": "display_data"
    },
    {
     "data": {
      "image/png": "[encoded data removed]",
      "text/plain": [
       "<Figure size 432x288 with 1 Axes>"
      ]
     },
     "metadata": {
      "needs_background": "light"
     },
     "output_type": "display_data"
    }
   ],
   "source": [
    "# rendimientos \n",
    "ren = calc_daily_ret(closes_boeing) \n",
    "\n",
    "# Histograma de los rendimientos\n",
    "y, x, _ = plt.hist(ren['BA'], bins=50, density=True, label='Histograma rendimientos')\n",
    "\n",
    "# Se ajustan los parámetros de una distribución\n",
    "dist = 't'\n",
    "params = getattr(st, dist).fit(ren.values) \n",
    "\n",
    "# Generación de la pdf de la distribución ajustado con los parámetros encontrados\n",
    "curve_fit = getattr(st, dist).pdf(x, *params)\n",
    "plt.plot(x, curve_fit, label='Distribución ajustada')\n",
    "plt.legend()\n",
    "plt.show()\n",
    "\n",
    "# Q-Q\n",
    "st.probplot(ren['BA'], sparams=params[:-2], dist=dist, plot=plt);"
   ]
  },
  {
   "cell_type": "markdown",
   "metadata": {},
   "source": [
    "En este caso se usó la distribución T, la gráfica Q-Q se ajusta bien a los datos y fue la que vimos en clase. Podríamos encontrar otra distribución que se ajuste mejor a los datos y sobre ella repetir el mismo procedimiento y posiblemente obtener mejores resultados. "
   ]
  },
  {
   "cell_type": "code",
   "execution_count": 19,
   "metadata": {},
   "outputs": [],
   "source": [
    "prob = y/np.sum(y) # Para tener valores entre 0 y 1, se representan como probabilidades\n",
    "values = x[1:]"
   ]
  },
  {
   "cell_type": "code",
   "execution_count": 20,
   "metadata": {},
   "outputs": [],
   "source": [
    "# Histograma tomando la tasa libre de riesgo\n",
    "freq, values = np.histogram(ret_boeing+r-mu, bins=2000)\n",
    "prob = freq/np.sum(freq)\n",
    "\n",
    "# Simulación de los rendimientos\n",
    "ret = np.random.choice(values[1:], ndays*nscen, p=prob)\n",
    "\n",
    "# Simulación de precios\n",
    "sim_ret_hist = pd.DataFrame(ret.reshape((ndays,nscen)),index=dates)\n",
    "sim_closes_hist = (closes_boeing.iloc[-1,0]) * np.exp(sim_ret_hist.cumsum())"
   ]
  },
  {
   "cell_type": "code",
   "execution_count": 21,
   "metadata": {},
   "outputs": [
    {
     "data": {
      "image/png": "[encoded data removed]",
      "text/plain": [
       "<Figure size 432x288 with 1 Axes>"
      ]
     },
     "metadata": {
      "needs_background": "light"
     },
     "output_type": "display_data"
    }
   ],
   "source": [
    "strike = pd.DataFrame(K*np.ones(ndays*nscen).reshape((ndays,nscen)), index=dates)\n",
    "put_hist = pd.DataFrame({'Prima':np.exp(-r*ndays) \\\n",
    "                          *np.fmax(strike - sim_closes_hist,np.zeros(ndays*nscen).reshape((ndays,nscen))).T.mean()}, index=dates)\n",
    "put_hist.plot();"
   ]
  },
  {
   "cell_type": "markdown",
   "metadata": {},
   "source": [
    "Nuevamente simulamos precios a través de los rendimientos y calculamos el precio de la prima a lo largo del tiempo. "
   ]
  },
  {
   "cell_type": "code",
   "execution_count": 22,
   "metadata": {},
   "outputs": [
    {
     "data": {
      "text/plain": [
       "Prima    43.264\n",
       "Name: 2023-01-20 00:00:00, dtype: float64"
      ]
     },
     "execution_count": 22,
     "metadata": {},
     "output_type": "execute_result"
    }
   ],
   "source": [
    "rput_hist = put_hist.iloc[-1]\n",
    "rput_hist # Valor de la prima"
   ]
  },
  {
   "cell_type": "code",
   "execution_count": 23,
   "metadata": {},
   "outputs": [
    {
     "data": {
      "text/plain": [
       "(41.412917826210986, 45.11461942600049)"
      ]
     },
     "execution_count": 23,
     "metadata": {},
     "output_type": "execute_result"
    }
   ],
   "source": [
    "sigma_hist = sim_closes_hist.iloc[-1].sem()\n",
    "mean_hist = put_hist.iloc[-1].Prima\n",
    "i2 = st.norm.interval(confianza, loc=mean_hist, scale=sigma_hist)\n",
    "i2 # Intervalo de confianza de la prima"
   ]
  },
  {
   "cell_type": "markdown",
   "metadata": {},
   "source": [
    "Pasamos a calcular el valor teórico de la opción usando las fórmulas de Black & Scholes."
   ]
  },
  {
   "cell_type": "markdown",
   "metadata": {},
   "source": [
    "$$\n",
    "d_1 = \\frac{\\ln{\\frac{S_0}{K}} + (r + \\sigma^2 / 2) T}{\\sigma \\sqrt{T}}, \\quad d_2 = \\frac{\\ln{\\frac{S_0}{K}} + (r - \\sigma^2 / 2) T}{\\sigma \\sqrt{T}} \n",
    "$$"
   ]
  },
  {
   "cell_type": "markdown",
   "metadata": {},
   "source": [
    "Lo de abajo son los valores/variables que vamos a necesitar para calcular el valor teórico de la acción por medio de Black & Scholes. Calculamos lo necesario y obtenemos los siguientes resultados."
   ]
  },
  {
   "cell_type": "code",
   "execution_count": 24,
   "metadata": {},
   "outputs": [
    {
     "data": {
      "text/plain": [
       "(235.9701, 245, 1.9444444444444444e-06, 0.49066246448135287, 453)"
      ]
     },
     "execution_count": 24,
     "metadata": {},
     "output_type": "execute_result"
    }
   ],
   "source": [
    "# Datos o información necesaria para aplicar las fórmulas\n",
    "opc_boeing.Underlying_Price[0], K, r, sigma*np.sqrt(252), ndays"
   ]
  },
  {
   "cell_type": "markdown",
   "metadata": {},
   "source": [
    "$$d_1 = \\frac{\\ln{\\frac{242}{245}} + (1.94x10^{-6} + 0.0009/2)(455)}{0.0309\\sqrt{455}}$$\n",
    "\n",
    "$$d_2 = \\frac{\\ln{\\frac{242}{245}} + (1.94x10^{-6} - 0.0009/2)(455)}{0.0309\\sqrt{455}}$$"
   ]
  },
  {
   "cell_type": "code",
   "execution_count": 25,
   "metadata": {},
   "outputs": [
    {
     "data": {
      "text/plain": [
       "(0.7538641126916307, 0.09600686082796027)"
      ]
     },
     "execution_count": 25,
     "metadata": {},
     "output_type": "execute_result"
    }
   ],
   "source": [
    "d1 = (np.log(opc_boeing.Underlying_Price[0] / K) + (r*360 + sigma**2/2)*ndays) / (sigma*np.sqrt(ndays))\n",
    "d2 = (np.log(opc_boeing.Underlying_Price[0] / K) + (r*360 - sigma**2/2)*ndays) / (sigma*np.sqrt(ndays))\n",
    "d1, d2"
   ]
  },
  {
   "cell_type": "code",
   "execution_count": 26,
   "metadata": {},
   "outputs": [
    {
     "data": {
      "text/plain": [
       "(0.22546541081269256, 0.4617575617918116)"
      ]
     },
     "execution_count": 26,
     "metadata": {},
     "output_type": "execute_result"
    }
   ],
   "source": [
    "Nd1 = st.norm.cdf(-d1)\n",
    "Nd2 = st.norm.cdf(-d2)\n",
    "Nd1, Nd2"
   ]
  },
  {
   "cell_type": "markdown",
   "metadata": {},
   "source": [
    "Calculamos los componentes de la fórmula de Black & Scholes (N(d1) y N(d2)) y los usamos para calcular el precio de la opción mediante la fórmula completa.\n",
    "\n",
    "$$p = K e^{-rT} N(-d_2) - S_0 N(-d_1)$$"
   ]
  },
  {
   "cell_type": "code",
   "execution_count": 27,
   "metadata": {},
   "outputs": [
    {
     "data": {
      "text/plain": [
       "59.827901771445326"
      ]
     },
     "execution_count": 27,
     "metadata": {},
     "output_type": "execute_result"
    }
   ],
   "source": [
    "BS = (K * np.exp(-r * ndays) * Nd2) - (opc_boeing.Underlying_Price[0] * Nd1)\n",
    "BS # Valor teórico de la opción"
   ]
  },
  {
   "cell_type": "code",
   "execution_count": 28,
   "metadata": {},
   "outputs": [
    {
     "data": {
      "text/html": [
       "<div>\n",
       "<style scoped>\n",
       "    .dataframe tbody tr th:only-of-type {\n",
       "        vertical-align: middle;\n",
       "    }\n",
       "\n",
       "    .dataframe tbody tr th {\n",
       "        vertical-align: top;\n",
       "    }\n",
       "\n",
       "    .dataframe thead th {\n",
       "        text-align: right;\n",
       "    }\n",
       "</style>\n",
       "<table border=\"1\" class=\"dataframe\">\n",
       "  <thead>\n",
       "    <tr style=\"text-align: right;\">\n",
       "      <th></th>\n",
       "      <th>Montecarlo</th>\n",
       "      <th>Histograma</th>\n",
       "      <th>Teórico</th>\n",
       "      <th>Real</th>\n",
       "    </tr>\n",
       "  </thead>\n",
       "  <tbody>\n",
       "    <tr>\n",
       "      <th>Prima</th>\n",
       "      <td>48.019</td>\n",
       "      <td>43.264</td>\n",
       "      <td>59.828</td>\n",
       "      <td>47.48</td>\n",
       "    </tr>\n",
       "  </tbody>\n",
       "</table>\n",
       "</div>"
      ],
      "text/plain": [
       "       Montecarlo  Histograma  Teórico   Real\n",
       "Prima      48.019      43.264   59.828  47.48"
      ]
     },
     "execution_count": 28,
     "metadata": {},
     "output_type": "execute_result"
    }
   ],
   "source": [
    "# Resumen\n",
    "res = pd.DataFrame(data = {'Montecarlo': rput,\n",
    "                          'Histograma': rput_hist,\n",
    "                          'Teórico': BS,\n",
    "                          'Real': opcion_valuar['JSON']['lastPrice']})\n",
    "res"
   ]
  },
  {
   "cell_type": "markdown",
   "metadata": {},
   "source": [
    "Vemos que el precio de la opción encontrado por medio de los distintos métodos es muy similar al precio actual de la opción, sus respectivos intervalos de confianza al 99% también es adecuado, por lo que podemos concluir que estos métodos sí estiman bien dichos precios. El único que no se acercó para nada al valor real fue el valor teórico calculado con las fórmulas de Black & Scholes. A su vez, calcularlo mediante los métodos de simulación Montecarlo nos permite ver el comportamiento de la prima a lo largo del tiempo, no solamente su valor final (que sería el precio de la opción actual). Ver el comportamiento de la prima nos puede ayudar a, por ejemplo, si necesitamos una prima más barata, podemos encontrar una opción similar que tenga una fecha de cierre antes o después, dependiendo del precio y adquirirla."
   ]
  }
 ],
 "metadata": {
  "kernelspec": {
   "display_name": "Python 3",
   "language": "python",
   "name": "python3"
  },
  "language_info": {
   "codemirror_mode": {
    "name": "ipython",
    "version": 3
   },
   "file_extension": ".py",
   "mimetype": "text/x-python",
   "name": "python",
   "nbconvert_exporter": "python",
   "pygments_lexer": "ipython3",
   "version": "3.8.5"
  }
 },
 "nbformat": 4,
 "nbformat_minor": 4
}

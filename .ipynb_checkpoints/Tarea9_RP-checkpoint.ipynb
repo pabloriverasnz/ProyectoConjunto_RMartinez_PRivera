{
 "cells": [
  {
   "cell_type": "markdown",
   "metadata": {},
   "source": [
    "<img style=\"float: left; margin: 30px 15px 15px 15px;\" src=\"https://pngimage.net/wp-content/uploads/2018/06/logo-iteso-png-5.png\" width=\"300\" height=\"500\" /> \n",
    "    \n",
    "    \n",
    "### <font color='navy'> Simulación de procesos financieros. \n",
    "\n",
    "**Nombres:** \n",
    "- \n",
    "- Rodrigo Martínez Gallardo Bertoldi\n",
    "-\n",
    "\n",
    "**Fecha:** 26 de abril del 2021.\n",
    "\n",
    "**Expediente** : \n",
    "- \n",
    "- 722268\n",
    "-\n",
    "    \n",
    "**Profesor:** Oscar David Jaramillo Zuluaga.\n",
    "\n",
    "# Tarea 9: Clase 22."
   ]
  },
  {
   "cell_type": "markdown",
   "metadata": {},
   "source": [
    "[Liga al repositorio](https://github.com/rodrigomart1nez/ProyectoConjunto_RMartinez_PRivera)"
   ]
  },
  {
   "cell_type": "markdown",
   "metadata": {},
   "source": [
    "### Proyecto Conjunto.\n",
    "> Instrucciones: Cada estudiante debe proponer una solución óptima a los problemas planteados a continuación."
   ]
  },
  {
   "cell_type": "markdown",
   "metadata": {},
   "source": [
    "# <font color = 'red'> Tarea: </font>\n",
    "\n",
    "Replicar el procedimiento anterior para valoración de opciones 'call', pero en este caso para opciones tipo 'put'."
   ]
  },
  {
   "cell_type": "markdown",
   "metadata": {},
   "source": [
    "### _Solución Rodrigo._"
   ]
  },
  {
   "cell_type": "code",
   "execution_count": 1,
   "metadata": {},
   "outputs": [],
   "source": [
    "#importar los paquetes que se van a usar\n",
    "import pandas as pd\n",
    "import pandas_datareader.data as web\n",
    "import numpy as np\n",
    "import datetime\n",
    "import matplotlib.pyplot as plt\n",
    "import scipy.stats as st\n",
    "import seaborn as sns\n",
    "%matplotlib inline\n",
    "#algunas opciones para Pandas\n",
    "pd.set_option('display.notebook_repr_html', True)\n",
    "pd.set_option('display.max_columns', 6)\n",
    "pd.set_option('display.max_rows', 10)\n",
    "pd.set_option('display.width', 78)\n",
    "pd.set_option('precision', 3)"
   ]
  },
  {
   "cell_type": "code",
   "execution_count": 2,
   "metadata": {},
   "outputs": [
    {
     "data": {
      "text/html": [
       "<div>\n",
       "<style scoped>\n",
       "    .dataframe tbody tr th:only-of-type {\n",
       "        vertical-align: middle;\n",
       "    }\n",
       "\n",
       "    .dataframe tbody tr th {\n",
       "        vertical-align: top;\n",
       "    }\n",
       "\n",
       "    .dataframe thead th {\n",
       "        text-align: right;\n",
       "    }\n",
       "</style>\n",
       "<table border=\"1\" class=\"dataframe\">\n",
       "  <thead>\n",
       "    <tr style=\"text-align: right;\">\n",
       "      <th></th>\n",
       "      <th>Strike</th>\n",
       "      <th>Type</th>\n",
       "      <th>Symbol</th>\n",
       "      <th>...</th>\n",
       "      <th>Quote_Time</th>\n",
       "      <th>Last_Trade_Date</th>\n",
       "      <th>JSON</th>\n",
       "    </tr>\n",
       "    <tr>\n",
       "      <th>Expiry</th>\n",
       "      <th></th>\n",
       "      <th></th>\n",
       "      <th></th>\n",
       "      <th></th>\n",
       "      <th></th>\n",
       "      <th></th>\n",
       "      <th></th>\n",
       "    </tr>\n",
       "  </thead>\n",
       "  <tbody>\n",
       "    <tr>\n",
       "      <th>2021-06-18</th>\n",
       "      <td>18.75</td>\n",
       "      <td>call</td>\n",
       "      <td>AAPL210618C00018750</td>\n",
       "      <td>...</td>\n",
       "      <td>2021-04-27 18:00:19</td>\n",
       "      <td>2021-04-26 18:30:03</td>\n",
       "      <td>{'contractSymbol': 'AAPL210618C00018750', 'str...</td>\n",
       "    </tr>\n",
       "    <tr>\n",
       "      <th>2021-06-18</th>\n",
       "      <td>18.75</td>\n",
       "      <td>put</td>\n",
       "      <td>AAPL210618P00018750</td>\n",
       "      <td>...</td>\n",
       "      <td>2021-04-27 18:00:19</td>\n",
       "      <td>2021-04-22 14:35:20</td>\n",
       "      <td>{'contractSymbol': 'AAPL210618P00018750', 'str...</td>\n",
       "    </tr>\n",
       "    <tr>\n",
       "      <th>2021-06-18</th>\n",
       "      <td>20.00</td>\n",
       "      <td>call</td>\n",
       "      <td>AAPL210618C00020000</td>\n",
       "      <td>...</td>\n",
       "      <td>2021-04-27 18:00:19</td>\n",
       "      <td>2021-04-14 15:36:52</td>\n",
       "      <td>{'contractSymbol': 'AAPL210618C00020000', 'str...</td>\n",
       "    </tr>\n",
       "    <tr>\n",
       "      <th>2021-06-18</th>\n",
       "      <td>20.00</td>\n",
       "      <td>put</td>\n",
       "      <td>AAPL210618P00020000</td>\n",
       "      <td>...</td>\n",
       "      <td>2021-04-27 18:00:19</td>\n",
       "      <td>2021-03-22 19:57:37</td>\n",
       "      <td>{'contractSymbol': 'AAPL210618P00020000', 'str...</td>\n",
       "    </tr>\n",
       "    <tr>\n",
       "      <th>2021-06-18</th>\n",
       "      <td>21.25</td>\n",
       "      <td>call</td>\n",
       "      <td>AAPL210618C00021250</td>\n",
       "      <td>...</td>\n",
       "      <td>2021-04-27 18:00:19</td>\n",
       "      <td>2021-02-04 18:50:12</td>\n",
       "      <td>{'contractSymbol': 'AAPL210618C00021250', 'str...</td>\n",
       "    </tr>\n",
       "    <tr>\n",
       "      <th>...</th>\n",
       "      <td>...</td>\n",
       "      <td>...</td>\n",
       "      <td>...</td>\n",
       "      <td>...</td>\n",
       "      <td>...</td>\n",
       "      <td>...</td>\n",
       "      <td>...</td>\n",
       "    </tr>\n",
       "    <tr>\n",
       "      <th>2021-09-17</th>\n",
       "      <td>1000.00</td>\n",
       "      <td>call</td>\n",
       "      <td>AAPL210917C01000000</td>\n",
       "      <td>...</td>\n",
       "      <td>2021-04-27 18:00:19</td>\n",
       "      <td>2020-08-28 19:58:31</td>\n",
       "      <td>{'contractSymbol': 'AAPL210917C01000000', 'str...</td>\n",
       "    </tr>\n",
       "    <tr>\n",
       "      <th>2022-01-21</th>\n",
       "      <td>1000.00</td>\n",
       "      <td>call</td>\n",
       "      <td>AAPL220121C01000000</td>\n",
       "      <td>...</td>\n",
       "      <td>2021-04-27 18:00:19</td>\n",
       "      <td>2020-08-28 19:59:43</td>\n",
       "      <td>{'contractSymbol': 'AAPL220121C01000000', 'str...</td>\n",
       "    </tr>\n",
       "    <tr>\n",
       "      <th>2022-06-17</th>\n",
       "      <td>1000.00</td>\n",
       "      <td>call</td>\n",
       "      <td>AAPL220617C01000000</td>\n",
       "      <td>...</td>\n",
       "      <td>2021-04-27 18:00:20</td>\n",
       "      <td>2020-08-28 19:48:09</td>\n",
       "      <td>{'contractSymbol': 'AAPL220617C01000000', 'str...</td>\n",
       "    </tr>\n",
       "    <tr>\n",
       "      <th>2022-09-16</th>\n",
       "      <td>1000.00</td>\n",
       "      <td>call</td>\n",
       "      <td>AAPL220916C01000000</td>\n",
       "      <td>...</td>\n",
       "      <td>2021-04-27 18:00:20</td>\n",
       "      <td>2020-08-28 19:59:03</td>\n",
       "      <td>{'contractSymbol': 'AAPL220916C01000000', 'str...</td>\n",
       "    </tr>\n",
       "    <tr>\n",
       "      <th>2022-09-16</th>\n",
       "      <td>1000.00</td>\n",
       "      <td>put</td>\n",
       "      <td>AAPL220916P01000000</td>\n",
       "      <td>...</td>\n",
       "      <td>2021-04-27 18:00:20</td>\n",
       "      <td>2020-08-28 17:27:35</td>\n",
       "      <td>{'contractSymbol': 'AAPL220916P01000000', 'str...</td>\n",
       "    </tr>\n",
       "  </tbody>\n",
       "</table>\n",
       "<p>2310 rows × 18 columns</p>\n",
       "</div>"
      ],
      "text/plain": [
       "             Strike  Type               Symbol  ...          Quote_Time  \\\n",
       "Expiry                                          ...                       \n",
       "2021-06-18    18.75  call  AAPL210618C00018750  ... 2021-04-27 18:00:19   \n",
       "2021-06-18    18.75   put  AAPL210618P00018750  ... 2021-04-27 18:00:19   \n",
       "2021-06-18    20.00  call  AAPL210618C00020000  ... 2021-04-27 18:00:19   \n",
       "2021-06-18    20.00   put  AAPL210618P00020000  ... 2021-04-27 18:00:19   \n",
       "2021-06-18    21.25  call  AAPL210618C00021250  ... 2021-04-27 18:00:19   \n",
       "...             ...   ...                  ...  ...                 ...   \n",
       "2021-09-17  1000.00  call  AAPL210917C01000000  ... 2021-04-27 18:00:19   \n",
       "2022-01-21  1000.00  call  AAPL220121C01000000  ... 2021-04-27 18:00:19   \n",
       "2022-06-17  1000.00  call  AAPL220617C01000000  ... 2021-04-27 18:00:20   \n",
       "2022-09-16  1000.00  call  AAPL220916C01000000  ... 2021-04-27 18:00:20   \n",
       "2022-09-16  1000.00   put  AAPL220916P01000000  ... 2021-04-27 18:00:20   \n",
       "\n",
       "               Last_Trade_Date  \\\n",
       "Expiry                           \n",
       "2021-06-18 2021-04-26 18:30:03   \n",
       "2021-06-18 2021-04-22 14:35:20   \n",
       "2021-06-18 2021-04-14 15:36:52   \n",
       "2021-06-18 2021-03-22 19:57:37   \n",
       "2021-06-18 2021-02-04 18:50:12   \n",
       "...                        ...   \n",
       "2021-09-17 2020-08-28 19:58:31   \n",
       "2022-01-21 2020-08-28 19:59:43   \n",
       "2022-06-17 2020-08-28 19:48:09   \n",
       "2022-09-16 2020-08-28 19:59:03   \n",
       "2022-09-16 2020-08-28 17:27:35   \n",
       "\n",
       "                                                         JSON  \n",
       "Expiry                                                         \n",
       "2021-06-18  {'contractSymbol': 'AAPL210618C00018750', 'str...  \n",
       "2021-06-18  {'contractSymbol': 'AAPL210618P00018750', 'str...  \n",
       "2021-06-18  {'contractSymbol': 'AAPL210618C00020000', 'str...  \n",
       "2021-06-18  {'contractSymbol': 'AAPL210618P00020000', 'str...  \n",
       "2021-06-18  {'contractSymbol': 'AAPL210618C00021250', 'str...  \n",
       "...                                                       ...  \n",
       "2021-09-17  {'contractSymbol': 'AAPL210917C01000000', 'str...  \n",
       "2022-01-21  {'contractSymbol': 'AAPL220121C01000000', 'str...  \n",
       "2022-06-17  {'contractSymbol': 'AAPL220617C01000000', 'str...  \n",
       "2022-09-16  {'contractSymbol': 'AAPL220916C01000000', 'str...  \n",
       "2022-09-16  {'contractSymbol': 'AAPL220916P01000000', 'str...  \n",
       "\n",
       "[2310 rows x 18 columns]"
      ]
     },
     "execution_count": 2,
     "metadata": {},
     "output_type": "execute_result"
    }
   ],
   "source": [
    "aapl = web.YahooOptions('AAPL')\n",
    "aapl_opt = aapl.get_all_data().reset_index()\n",
    "aapl_opt.set_index('Expiry')"
   ]
  },
  {
   "cell_type": "code",
   "execution_count": null,
   "metadata": {},
   "outputs": [],
   "source": []
  },
  {
   "cell_type": "code",
   "execution_count": null,
   "metadata": {},
   "outputs": [],
   "source": []
  },
  {
   "cell_type": "code",
   "execution_count": null,
   "metadata": {},
   "outputs": [],
   "source": []
  },
  {
   "cell_type": "code",
   "execution_count": null,
   "metadata": {},
   "outputs": [],
   "source": []
  },
  {
   "cell_type": "code",
   "execution_count": null,
   "metadata": {},
   "outputs": [],
   "source": []
  },
  {
   "cell_type": "code",
   "execution_count": null,
   "metadata": {},
   "outputs": [],
   "source": []
  },
  {
   "cell_type": "code",
   "execution_count": null,
   "metadata": {},
   "outputs": [],
   "source": []
  },
  {
   "cell_type": "code",
   "execution_count": null,
   "metadata": {},
   "outputs": [],
   "source": []
  },
  {
   "cell_type": "code",
   "execution_count": null,
   "metadata": {},
   "outputs": [],
   "source": []
  },
  {
   "cell_type": "code",
   "execution_count": null,
   "metadata": {},
   "outputs": [],
   "source": []
  },
  {
   "cell_type": "code",
   "execution_count": null,
   "metadata": {},
   "outputs": [],
   "source": []
  },
  {
   "cell_type": "code",
   "execution_count": null,
   "metadata": {},
   "outputs": [],
   "source": []
  },
  {
   "cell_type": "code",
   "execution_count": null,
   "metadata": {},
   "outputs": [],
   "source": []
  },
  {
   "cell_type": "code",
   "execution_count": null,
   "metadata": {},
   "outputs": [],
   "source": []
  },
  {
   "cell_type": "markdown",
   "metadata": {},
   "source": [
    "### _Solución Pablo._"
   ]
  },
  {
   "cell_type": "code",
   "execution_count": null,
   "metadata": {},
   "outputs": [],
   "source": []
  },
  {
   "cell_type": "code",
   "execution_count": null,
   "metadata": {},
   "outputs": [],
   "source": []
  },
  {
   "cell_type": "code",
   "execution_count": null,
   "metadata": {},
   "outputs": [],
   "source": []
  },
  {
   "cell_type": "code",
   "execution_count": null,
   "metadata": {},
   "outputs": [],
   "source": []
  },
  {
   "cell_type": "code",
   "execution_count": null,
   "metadata": {},
   "outputs": [],
   "source": []
  },
  {
   "cell_type": "code",
   "execution_count": null,
   "metadata": {},
   "outputs": [],
   "source": []
  },
  {
   "cell_type": "code",
   "execution_count": null,
   "metadata": {},
   "outputs": [],
   "source": []
  },
  {
   "cell_type": "code",
   "execution_count": null,
   "metadata": {},
   "outputs": [],
   "source": []
  },
  {
   "cell_type": "code",
   "execution_count": null,
   "metadata": {},
   "outputs": [],
   "source": []
  },
  {
   "cell_type": "code",
   "execution_count": null,
   "metadata": {},
   "outputs": [],
   "source": []
  },
  {
   "cell_type": "code",
   "execution_count": null,
   "metadata": {},
   "outputs": [],
   "source": []
  },
  {
   "cell_type": "code",
   "execution_count": null,
   "metadata": {},
   "outputs": [],
   "source": []
  },
  {
   "cell_type": "code",
   "execution_count": null,
   "metadata": {},
   "outputs": [],
   "source": []
  },
  {
   "cell_type": "code",
   "execution_count": null,
   "metadata": {},
   "outputs": [],
   "source": []
  },
  {
   "cell_type": "code",
   "execution_count": null,
   "metadata": {},
   "outputs": [],
   "source": []
  },
  {
   "cell_type": "code",
   "execution_count": null,
   "metadata": {},
   "outputs": [],
   "source": []
  },
  {
   "cell_type": "code",
   "execution_count": null,
   "metadata": {},
   "outputs": [],
   "source": []
  },
  {
   "cell_type": "code",
   "execution_count": null,
   "metadata": {},
   "outputs": [],
   "source": []
  },
  {
   "cell_type": "code",
   "execution_count": null,
   "metadata": {},
   "outputs": [],
   "source": []
  }
 ],
 "metadata": {
  "kernelspec": {
   "display_name": "Python 3",
   "language": "python",
   "name": "python3"
  },
  "language_info": {
   "codemirror_mode": {
    "name": "ipython",
    "version": 3
   },
   "file_extension": ".py",
   "mimetype": "text/x-python",
   "name": "python",
   "nbconvert_exporter": "python",
   "pygments_lexer": "ipython3",
   "version": "3.8.5"
  }
 },
 "nbformat": 4,
 "nbformat_minor": 4
}
